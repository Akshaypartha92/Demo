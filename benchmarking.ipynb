{
  "nbformat": 4,
  "nbformat_minor": 0,
  "metadata": {
    "colab": {
      "name": "benchmarking.ipynb",
      "provenance": [],
      "collapsed_sections": [],
      "authorship_tag": "ABX9TyN1CQ4uaMPTmnlmth6mR/4q",
      "include_colab_link": true
    },
    "kernelspec": {
      "name": "python3",
      "display_name": "Python 3"
    },
    "language_info": {
      "name": "python"
    }
  },
  "cells": [
    {
      "cell_type": "markdown",
      "metadata": {
        "id": "view-in-github",
        "colab_type": "text"
      },
      "source": [
        "<a href=\"https://colab.research.google.com/github/Akshaypartha92/Demo/blob/master/benchmarking.ipynb\" target=\"_parent\"><img src=\"https://colab.research.google.com/assets/colab-badge.svg\" alt=\"Open In Colab\"/></a>"
      ]
    },
    {
      "cell_type": "code",
      "metadata": {
        "id": "aSnI_bnY4-ou"
      },
      "source": [
        "from google.colab import drive\n",
        "drive.mount('/content/drive/')"
      ],
      "execution_count": 17,
      "outputs": []
    },
    {
      "cell_type": "code",
      "metadata": {
        "id": "PHnpE6rsX_wn"
      },
      "source": [
        "# csv_to_parquet.py\n",
        "\n",
        "%matplotlib inline\n",
        "%reload_ext autoreload\n",
        "%autoreload 2\n",
        "\n",
        "\n",
        "from collections import defaultdict\n",
        "import os\n",
        "import feather\n",
        "import numpy as np\n",
        "import seaborn as sns\n",
        "import pandas as pd\n",
        "import pyarrow as pa\n",
        "import pyarrow.parquet as pq\n",
        "from utils import Timer, MemoryTracker, GC, NotebookStyle\n",
        "\n",
        "csv_file = '/content/drive/MyDrive/Rexergy/Rexergy interns 2021 S2/1 Data/climate data/Solcast Data/-33.939923_151.175276_Solcast_PT5M.csv'\n",
        "#parquet_file = '/content/drive/MyDrive/Rexergy/Rexergy interns 2021 S2/1 Data/climate data/Solcast Data/path/to/5minTempData.parquet'\n",
        "#chunksize = 100_000\n",
        "\n",
        "df = pd.read_csv(csv_file)\n",
        "df.to_parquet('/content/drive/MyDrive/Rexergy/Rexergy interns 2021 S2/1 Data/climate data/Solcast Data/output.parquet')"
      ],
      "execution_count": null,
      "outputs": []
    },
    {
      "cell_type": "code",
      "metadata": {
        "id": "jph7Fpk_DZ3u"
      },
      "source": [
        "import gc\n",
        "from multiprocessing import Process, Event, Value\n",
        "import os\n",
        "import time\n",
        "from timeit import default_timer\n",
        "\n",
        "import matplotlib.pyplot as plt\n",
        "import numpy as np\n",
        "import psutil\n",
        "\n",
        "\n",
        "class Timer:\n",
        "    \"\"\"Simple util to measure execution time.\n",
        "    Examples\n",
        "    --------\n",
        "    >>> import time\n",
        "    >>> with Timer() as timer:\n",
        "    ...     time.sleep(1)\n",
        "    >>> print(timer)\n",
        "    00:00:01\n",
        "    \"\"\"\n",
        "    def __init__(self):\n",
        "        self.start = None\n",
        "        self.elapsed = None\n",
        "\n",
        "    def __enter__(self):\n",
        "        self.start = default_timer()\n",
        "        return self\n",
        "\n",
        "    def __exit__(self, exc_type, exc_val, exc_tb):\n",
        "        self.elapsed = default_timer() - self.start\n",
        "\n",
        "    def __str__(self):\n",
        "        return self.verbose()\n",
        "\n",
        "    def __float__(self):\n",
        "        return self.elapsed\n",
        "\n",
        "    def verbose(self):\n",
        "        if self.elapsed is None:\n",
        "            return '<not-measured>'\n",
        "        return self.format_elapsed_time(self.elapsed)\n",
        "\n",
        "    @staticmethod\n",
        "    def format_elapsed_time(value: float):\n",
        "        return time.strftime('%H:%M:%S', time.gmtime(value))\n",
        "    \n",
        "    \n",
        "class MemoryTrackingProcess(Process):\n",
        "    \"\"\"A process that periodically measures the amount of RAM consumed by another process.\n",
        "    \n",
        "    This process is stopped as soon as the event is set.\n",
        "    \"\"\"\n",
        "    def __init__(self, pid, event, **kwargs):\n",
        "        super().__init__()\n",
        "        self.p = psutil.Process(pid)\n",
        "        self.event = event\n",
        "        self.max_mem = Value('f', 0.0)\n",
        "        \n",
        "    def run(self):\n",
        "        mem_usage = []\n",
        "        while not self.event.is_set():\n",
        "            info = self.p.memory_info()\n",
        "            mem_bytes = info.rss\n",
        "            mem_usage.append(mem_bytes)\n",
        "            time.sleep(0.05)\n",
        "        self.max_mem.value = np.max(mem_usage)\n",
        "\n",
        "\n",
        "class MemoryTracker:\n",
        "    \"\"\"A context manager that runs MemoryTrackingProcess in background and collects \n",
        "    the information about used memory when the context is exited.\n",
        "    \"\"\"\n",
        "    def __init__(self, pid=None):\n",
        "        pid = pid or os.getpid()\n",
        "        self.start_mem = psutil.Process(pid).memory_info().rss\n",
        "        self.event = Event()\n",
        "        self.p = MemoryTrackingProcess(pid, self.event)\n",
        "    \n",
        "    @property\n",
        "    def memory(self):\n",
        "        return self.p.max_mem.value - self.start_mem\n",
        "    \n",
        "    def __enter__(self):\n",
        "        self.p.start()\n",
        "        return self\n",
        "    \n",
        "    def __exit__(self, exc_type, exc_val, exc_tb):\n",
        "        self.event.set()\n",
        "        self.p.join()\n",
        "\n",
        "        \n",
        "class GC:\n",
        "    def __enter__(self):\n",
        "        return self\n",
        "    def __exit__(self, exc_type, exc_val, ext_tb):\n",
        "        self.collected = gc.collect()\n",
        "        \n",
        "\n",
        "class VisualStyle:\n",
        "    def __init__(self, config, default=None):\n",
        "        if default is None:\n",
        "            default = plt.rcParams\n",
        "        self.default = default.copy()\n",
        "        self.config = config\n",
        "        \n",
        "    def replace(self):\n",
        "        plt.rcParams = self.config\n",
        "    \n",
        "    def override(self, extra=None):\n",
        "        plt.rcParams.update(self.config)\n",
        "        if extra is not None:\n",
        "            plt.rcParams.update(extra)\n",
        "\n",
        "    def restore(self):\n",
        "        plt.rcParams = self.default\n",
        "\n",
        "\n",
        "class NotebookStyle(VisualStyle):\n",
        "    def __init__(self):\n",
        "        super().__init__({\n",
        "            'figure.figsize': (11, 8),\n",
        "            'axes.titlesize': 20,\n",
        "            'axes.labelsize': 18,\n",
        "            'xtick.labelsize': 14,\n",
        "            'ytick.labelsize': 14,\n",
        "            'font.size': 16\n",
        "        })"
      ],
      "execution_count": 22,
      "outputs": []
    },
    {
      "cell_type": "code",
      "metadata": {
        "id": "dA_P2yrWCStW"
      },
      "source": [
        "%matplotlib inline\n",
        "%reload_ext autoreload\n",
        "%autoreload 2\n",
        "\n",
        "\n",
        "from collections import defaultdict\n",
        "import os\n",
        "import feather\n",
        "import numpy as np\n",
        "import seaborn as sns\n",
        "import pandas as pd\n",
        "import pyarrow as pa\n",
        "import pyarrow.parquet as pq"
      ],
      "execution_count": 23,
      "outputs": []
    },
    {
      "cell_type": "code",
      "metadata": {
        "id": "2kLiA8JqBxb8"
      },
      "source": [
        "def size_of(filename, unit=1024**2):\n",
        "    return round(os.stat(filename).st_size / unit, 2)"
      ],
      "execution_count": 18,
      "outputs": []
    },
    {
      "cell_type": "code",
      "metadata": {
        "id": "5vBk1a5QBzeX"
      },
      "source": [
        "def get_save_load(df, fmt):\n",
        "    save = getattr(df, f'to_{fmt}')\n",
        "    load = feather.read_dataframe if fmt == 'feather' else getattr(pd, f'read_{fmt}')\n",
        "    return save, load"
      ],
      "execution_count": 19,
      "outputs": []
    },
    {
      "cell_type": "code",
      "metadata": {
        "id": "W-N11csqBzmq"
      },
      "source": [
        "def benchmark(list_of_formats, data_size=1_000_000, n_num=15, n_cat=15, n_rounds=20,\n",
        "              as_category=False):\n",
        "    \"\"\"Runs dataset saving/loading benchamrk using formts from the list_of_formats.\n",
        "    \n",
        "    Each round a new random dataset is generated with data_size observations. \n",
        "    The measurements for each of the rounds are concatenated together and returned\n",
        "    as a single data frame.\n",
        "    \n",
        "    Parameters:\n",
        "        list_of_formats: A list of tuples in the format (<format_name>, [<params_dict>]). \n",
        "            The <format_name> should be one of the pandas supported formats.\n",
        "        data_size: A number of samples in the generated dataset.\n",
        "        n_num: A number of numerical columns in the generated dataset.\n",
        "        n_cat: A number of categorical columns in the generated dataset.\n",
        "        n_rounds: A number of randomly generated datasets to test the formats.\n",
        "        as_category: If True, then categorical columns will be converted into \n",
        "            pandas.Category type before saving.\n",
        "            \n",
        "    \"\"\"\n",
        "    runs = []\n",
        "    \n",
        "    for i in range(n_rounds):\n",
        "        print(f'Benchmarking round #{i + 1:d}')\n",
        "        print('\\tgenerating dataset...')\n",
        "        dataset = pd.read_csv(csv_file)\n",
        "        \n",
        "        if as_category:\n",
        "            print('\\tconverting categorical columns into pandas.Category')\n",
        "            cat_cols = dataset.select_dtypes(include=object).columns\n",
        "            dataset[cat_cols] = dataset[cat_cols].fillna('none').astype('category')\n",
        "        \n",
        "        benchmark = []\n",
        "        \n",
        "        for case in list_of_formats:\n",
        "            fmt, params = case if len(case) == 2 else (case[0], {})\n",
        "            \n",
        "            with GC():\n",
        "                print('\\ttesting format:', fmt)\n",
        "                filename = f'random.{fmt}'\n",
        "                save, load = get_save_load(dataset, fmt)\n",
        "                results = defaultdict(int)\n",
        "                results['format'] = fmt\n",
        "                results['filename'] = filename\n",
        "                \n",
        "                with MemoryTracker() as tracker:\n",
        "                    with Timer() as timer:\n",
        "                        save(filename, **params)\n",
        "                results['size_mb'] = size_of(filename)\n",
        "                results['save_ram_delta_mb'] = tracker.memory / (1024 ** 2)\n",
        "                results['save_time'] = float(timer)\n",
        "                \n",
        "                with MemoryTracker() as tracker:\n",
        "                    with Timer() as timer:\n",
        "                        _ = load(filename)\n",
        "                results['load_ram_delta_mb'] = tracker.memory / (1024 ** 2)\n",
        "                results['load_time'] = float(timer)\n",
        "                \n",
        "                benchmark.append(results)\n",
        "                \n",
        "            run = pd.DataFrame(benchmark)\n",
        "            run['run_no'] = i\n",
        "            runs.append(run)\n",
        "            \n",
        "    benchmark = pd.concat(runs, axis=0)\n",
        "    benchmark.reset_index(inplace=True, drop=True)\n",
        "    return benchmark"
      ],
      "execution_count": 25,
      "outputs": []
    },
    {
      "cell_type": "code",
      "metadata": {
        "id": "f2G9IBmvBzsz"
      },
      "source": [
        "formats = [('csv', {'index': None})]\n"
      ],
      "execution_count": 27,
      "outputs": []
    },
    {
      "cell_type": "code",
      "metadata": {
        "colab": {
          "base_uri": "https://localhost:8080/"
        },
        "id": "0C2qfqEmBzxE",
        "outputId": "3dbf0392-fab1-49f5-ec2a-8750cf3be3b4"
      },
      "source": [
        "csv_results = benchmark(formats, n_rounds=5)"
      ],
      "execution_count": 28,
      "outputs": [
        {
          "output_type": "stream",
          "text": [
            "Benchmarking round #1\n",
            "\tgenerating dataset...\n",
            "\ttesting format: csv\n",
            "Benchmarking round #2\n",
            "\tgenerating dataset...\n",
            "\ttesting format: csv\n",
            "Benchmarking round #3\n",
            "\tgenerating dataset...\n",
            "\ttesting format: csv\n",
            "Benchmarking round #4\n",
            "\tgenerating dataset...\n",
            "\ttesting format: csv\n",
            "Benchmarking round #5\n",
            "\tgenerating dataset...\n",
            "\ttesting format: csv\n"
          ],
          "name": "stdout"
        }
      ]
    },
    {
      "cell_type": "code",
      "metadata": {
        "id": "V3BaemN3Bz0D"
      },
      "source": [
        "\n",
        "csv_results.to_feather('/content/drive/MyDrive/Rexergy/Rexergy interns 2021 S2/1 Data/climate data/Solcast Data/baseline5min.feather')\n",
        "baseline = feather.read_dataframe('/content/drive/MyDrive/Rexergy/Rexergy interns 2021 S2/1 Data/climate data/Solcast Data/baseline5min.feather')"
      ],
      "execution_count": 29,
      "outputs": []
    },
    {
      "cell_type": "code",
      "metadata": {
        "colab": {
          "base_uri": "https://localhost:8080/",
          "height": 204
        },
        "id": "vGE5nMJtBz3e",
        "outputId": "31776e92-8f6d-4fd3-ee79-a75d647e87ae"
      },
      "source": [
        "baseline"
      ],
      "execution_count": 30,
      "outputs": [
        {
          "output_type": "execute_result",
          "data": {
            "text/html": [
              "<div>\n",
              "<style scoped>\n",
              "    .dataframe tbody tr th:only-of-type {\n",
              "        vertical-align: middle;\n",
              "    }\n",
              "\n",
              "    .dataframe tbody tr th {\n",
              "        vertical-align: top;\n",
              "    }\n",
              "\n",
              "    .dataframe thead th {\n",
              "        text-align: right;\n",
              "    }\n",
              "</style>\n",
              "<table border=\"1\" class=\"dataframe\">\n",
              "  <thead>\n",
              "    <tr style=\"text-align: right;\">\n",
              "      <th></th>\n",
              "      <th>format</th>\n",
              "      <th>filename</th>\n",
              "      <th>size_mb</th>\n",
              "      <th>save_ram_delta_mb</th>\n",
              "      <th>save_time</th>\n",
              "      <th>load_ram_delta_mb</th>\n",
              "      <th>load_time</th>\n",
              "      <th>run_no</th>\n",
              "    </tr>\n",
              "  </thead>\n",
              "  <tbody>\n",
              "    <tr>\n",
              "      <th>0</th>\n",
              "      <td>csv</td>\n",
              "      <td>random.csv</td>\n",
              "      <td>172.5</td>\n",
              "      <td>1.250000</td>\n",
              "      <td>16.300841</td>\n",
              "      <td>496.007812</td>\n",
              "      <td>3.546044</td>\n",
              "      <td>0</td>\n",
              "    </tr>\n",
              "    <tr>\n",
              "      <th>1</th>\n",
              "      <td>csv</td>\n",
              "      <td>random.csv</td>\n",
              "      <td>172.5</td>\n",
              "      <td>0.152344</td>\n",
              "      <td>16.300399</td>\n",
              "      <td>208.667969</td>\n",
              "      <td>3.850047</td>\n",
              "      <td>1</td>\n",
              "    </tr>\n",
              "    <tr>\n",
              "      <th>2</th>\n",
              "      <td>csv</td>\n",
              "      <td>random.csv</td>\n",
              "      <td>172.5</td>\n",
              "      <td>0.125000</td>\n",
              "      <td>16.227854</td>\n",
              "      <td>215.707031</td>\n",
              "      <td>3.783428</td>\n",
              "      <td>2</td>\n",
              "    </tr>\n",
              "    <tr>\n",
              "      <th>3</th>\n",
              "      <td>csv</td>\n",
              "      <td>random.csv</td>\n",
              "      <td>172.5</td>\n",
              "      <td>0.000000</td>\n",
              "      <td>16.237635</td>\n",
              "      <td>193.695312</td>\n",
              "      <td>3.754317</td>\n",
              "      <td>3</td>\n",
              "    </tr>\n",
              "    <tr>\n",
              "      <th>4</th>\n",
              "      <td>csv</td>\n",
              "      <td>random.csv</td>\n",
              "      <td>172.5</td>\n",
              "      <td>0.230469</td>\n",
              "      <td>16.233627</td>\n",
              "      <td>169.574219</td>\n",
              "      <td>3.816225</td>\n",
              "      <td>4</td>\n",
              "    </tr>\n",
              "  </tbody>\n",
              "</table>\n",
              "</div>"
            ],
            "text/plain": [
              "  format    filename  size_mb  ...  load_ram_delta_mb  load_time  run_no\n",
              "0    csv  random.csv    172.5  ...         496.007812   3.546044       0\n",
              "1    csv  random.csv    172.5  ...         208.667969   3.850047       1\n",
              "2    csv  random.csv    172.5  ...         215.707031   3.783428       2\n",
              "3    csv  random.csv    172.5  ...         193.695312   3.754317       3\n",
              "4    csv  random.csv    172.5  ...         169.574219   3.816225       4\n",
              "\n",
              "[5 rows x 8 columns]"
            ]
          },
          "metadata": {
            "tags": []
          },
          "execution_count": 30
        }
      ]
    },
    {
      "cell_type": "code",
      "metadata": {
        "id": "XUmqosuOBz52"
      },
      "source": [
        "formats = [\n",
        "    ('hdf', {'key': 'data', 'format': 'table'}),\n",
        "    ('pickle',),\n",
        "    ('feather',),\n",
        "    ('parquet', {'engine': 'pyarrow'})\n",
        "]"
      ],
      "execution_count": 33,
      "outputs": []
    },
    {
      "cell_type": "code",
      "metadata": {
        "colab": {
          "base_uri": "https://localhost:8080/"
        },
        "id": "dZQhvSSmFlmz",
        "outputId": "c3d872f5-f50a-41e4-dda8-d2e427247ac0"
      },
      "source": [
        "results = benchmark(formats)"
      ],
      "execution_count": 34,
      "outputs": [
        {
          "output_type": "stream",
          "text": [
            "Benchmarking round #1\n",
            "\tgenerating dataset...\n",
            "\ttesting format: hdf\n",
            "\ttesting format: pickle\n",
            "\ttesting format: feather\n",
            "\ttesting format: parquet\n",
            "Benchmarking round #2\n",
            "\tgenerating dataset...\n",
            "\ttesting format: hdf\n",
            "\ttesting format: pickle\n",
            "\ttesting format: feather\n",
            "\ttesting format: parquet\n",
            "Benchmarking round #3\n",
            "\tgenerating dataset...\n",
            "\ttesting format: hdf\n",
            "\ttesting format: pickle\n",
            "\ttesting format: feather\n",
            "\ttesting format: parquet\n",
            "Benchmarking round #4\n",
            "\tgenerating dataset...\n",
            "\ttesting format: hdf\n",
            "\ttesting format: pickle\n",
            "\ttesting format: feather\n",
            "\ttesting format: parquet\n",
            "Benchmarking round #5\n",
            "\tgenerating dataset...\n",
            "\ttesting format: hdf\n",
            "\ttesting format: pickle\n",
            "\ttesting format: feather\n",
            "\ttesting format: parquet\n",
            "Benchmarking round #6\n",
            "\tgenerating dataset...\n",
            "\ttesting format: hdf\n",
            "\ttesting format: pickle\n",
            "\ttesting format: feather\n",
            "\ttesting format: parquet\n",
            "Benchmarking round #7\n",
            "\tgenerating dataset...\n",
            "\ttesting format: hdf\n",
            "\ttesting format: pickle\n",
            "\ttesting format: feather\n",
            "\ttesting format: parquet\n",
            "Benchmarking round #8\n",
            "\tgenerating dataset...\n",
            "\ttesting format: hdf\n",
            "\ttesting format: pickle\n",
            "\ttesting format: feather\n",
            "\ttesting format: parquet\n",
            "Benchmarking round #9\n",
            "\tgenerating dataset...\n",
            "\ttesting format: hdf\n",
            "\ttesting format: pickle\n",
            "\ttesting format: feather\n",
            "\ttesting format: parquet\n",
            "Benchmarking round #10\n",
            "\tgenerating dataset...\n",
            "\ttesting format: hdf\n",
            "\ttesting format: pickle\n",
            "\ttesting format: feather\n",
            "\ttesting format: parquet\n",
            "Benchmarking round #11\n",
            "\tgenerating dataset...\n",
            "\ttesting format: hdf\n",
            "\ttesting format: pickle\n",
            "\ttesting format: feather\n",
            "\ttesting format: parquet\n",
            "Benchmarking round #12\n",
            "\tgenerating dataset...\n",
            "\ttesting format: hdf\n",
            "\ttesting format: pickle\n",
            "\ttesting format: feather\n",
            "\ttesting format: parquet\n",
            "Benchmarking round #13\n",
            "\tgenerating dataset...\n",
            "\ttesting format: hdf\n",
            "\ttesting format: pickle\n",
            "\ttesting format: feather\n",
            "\ttesting format: parquet\n",
            "Benchmarking round #14\n",
            "\tgenerating dataset...\n",
            "\ttesting format: hdf\n",
            "\ttesting format: pickle\n",
            "\ttesting format: feather\n",
            "\ttesting format: parquet\n",
            "Benchmarking round #15\n",
            "\tgenerating dataset...\n",
            "\ttesting format: hdf\n",
            "\ttesting format: pickle\n",
            "\ttesting format: feather\n",
            "\ttesting format: parquet\n",
            "Benchmarking round #16\n",
            "\tgenerating dataset...\n",
            "\ttesting format: hdf\n",
            "\ttesting format: pickle\n",
            "\ttesting format: feather\n",
            "\ttesting format: parquet\n",
            "Benchmarking round #17\n",
            "\tgenerating dataset...\n",
            "\ttesting format: hdf\n",
            "\ttesting format: pickle\n",
            "\ttesting format: feather\n",
            "\ttesting format: parquet\n",
            "Benchmarking round #18\n",
            "\tgenerating dataset...\n",
            "\ttesting format: hdf\n",
            "\ttesting format: pickle\n",
            "\ttesting format: feather\n",
            "\ttesting format: parquet\n",
            "Benchmarking round #19\n",
            "\tgenerating dataset...\n",
            "\ttesting format: hdf\n",
            "\ttesting format: pickle\n",
            "\ttesting format: feather\n",
            "\ttesting format: parquet\n",
            "Benchmarking round #20\n",
            "\tgenerating dataset...\n",
            "\ttesting format: hdf\n",
            "\ttesting format: pickle\n",
            "\ttesting format: feather\n",
            "\ttesting format: parquet\n"
          ],
          "name": "stdout"
        }
      ]
    },
    {
      "cell_type": "code",
      "metadata": {
        "id": "XBV-e7MpFlpu"
      },
      "source": [
        "results.to_feather('/content/drive/MyDrive/Rexergy/Rexergy interns 2021 S2/1 Data/climate data/Solcast Data/benchmarkingData.feather')"
      ],
      "execution_count": 35,
      "outputs": []
    },
    {
      "cell_type": "code",
      "metadata": {
        "id": "60E-G2E-Flsb"
      },
      "source": [
        "results = pd.concat([baseline, results], axis=0, sort=False)"
      ],
      "execution_count": 36,
      "outputs": []
    },
    {
      "cell_type": "code",
      "metadata": {
        "colab": {
          "base_uri": "https://localhost:8080/",
          "height": 204
        },
        "id": "66wwYf4QFlu9",
        "outputId": "aa6e5b61-6873-4eab-ae11-b6f2ec90a981"
      },
      "source": [
        "\n",
        "avg = results.groupby('format').mean().reset_index().drop(columns=['run_no'])\n",
        "avg"
      ],
      "execution_count": 37,
      "outputs": [
        {
          "output_type": "execute_result",
          "data": {
            "text/html": [
              "<div>\n",
              "<style scoped>\n",
              "    .dataframe tbody tr th:only-of-type {\n",
              "        vertical-align: middle;\n",
              "    }\n",
              "\n",
              "    .dataframe tbody tr th {\n",
              "        vertical-align: top;\n",
              "    }\n",
              "\n",
              "    .dataframe thead th {\n",
              "        text-align: right;\n",
              "    }\n",
              "</style>\n",
              "<table border=\"1\" class=\"dataframe\">\n",
              "  <thead>\n",
              "    <tr style=\"text-align: right;\">\n",
              "      <th></th>\n",
              "      <th>format</th>\n",
              "      <th>size_mb</th>\n",
              "      <th>save_ram_delta_mb</th>\n",
              "      <th>save_time</th>\n",
              "      <th>load_ram_delta_mb</th>\n",
              "      <th>load_time</th>\n",
              "    </tr>\n",
              "  </thead>\n",
              "  <tbody>\n",
              "    <tr>\n",
              "      <th>0</th>\n",
              "      <td>csv</td>\n",
              "      <td>172.500</td>\n",
              "      <td>0.351562</td>\n",
              "      <td>16.260071</td>\n",
              "      <td>256.730469</td>\n",
              "      <td>3.750012</td>\n",
              "    </tr>\n",
              "    <tr>\n",
              "      <th>1</th>\n",
              "      <td>feather</td>\n",
              "      <td>67.910</td>\n",
              "      <td>114.055469</td>\n",
              "      <td>0.580193</td>\n",
              "      <td>989.329492</td>\n",
              "      <td>1.801399</td>\n",
              "    </tr>\n",
              "    <tr>\n",
              "      <th>2</th>\n",
              "      <td>hdf</td>\n",
              "      <td>310.442</td>\n",
              "      <td>220.697266</td>\n",
              "      <td>4.575766</td>\n",
              "      <td>556.266016</td>\n",
              "      <td>5.504266</td>\n",
              "    </tr>\n",
              "    <tr>\n",
              "      <th>3</th>\n",
              "      <td>parquet</td>\n",
              "      <td>27.690</td>\n",
              "      <td>39.031250</td>\n",
              "      <td>1.141862</td>\n",
              "      <td>809.116602</td>\n",
              "      <td>2.098188</td>\n",
              "    </tr>\n",
              "    <tr>\n",
              "      <th>4</th>\n",
              "      <td>pickle</td>\n",
              "      <td>284.840</td>\n",
              "      <td>-66.662305</td>\n",
              "      <td>2.502621</td>\n",
              "      <td>69.732617</td>\n",
              "      <td>1.437575</td>\n",
              "    </tr>\n",
              "  </tbody>\n",
              "</table>\n",
              "</div>"
            ],
            "text/plain": [
              "    format  size_mb  save_ram_delta_mb  save_time  load_ram_delta_mb  load_time\n",
              "0      csv  172.500           0.351562  16.260071         256.730469   3.750012\n",
              "1  feather   67.910         114.055469   0.580193         989.329492   1.801399\n",
              "2      hdf  310.442         220.697266   4.575766         556.266016   5.504266\n",
              "3  parquet   27.690          39.031250   1.141862         809.116602   2.098188\n",
              "4   pickle  284.840         -66.662305   2.502621          69.732617   1.437575"
            ]
          },
          "metadata": {
            "tags": []
          },
          "execution_count": 37
        }
      ]
    },
    {
      "cell_type": "code",
      "metadata": {
        "colab": {
          "base_uri": "https://localhost:8080/",
          "height": 310
        },
        "id": "OZAlHKFqFlx_",
        "outputId": "23611b35-5423-4fe5-9670-04a9c7285cb4"
      },
      "source": [
        "io_speed = avg[['format', 'save_time', 'load_time']].melt(id_vars='format')\n",
        "ax = sns.barplot(x='format', y='value', hue='variable', data=io_speed)\n",
        "_ = ax.set_xlabel('File Format')\n",
        "_ = ax.set_ylabel('Seconds')\n",
        "_ = ax.set_title('Time to Save/Load a Data Frame\\n(categories as strings)')\n",
        "ax.grid(True)"
      ],
      "execution_count": 38,
      "outputs": [
        {
          "output_type": "display_data",
          "data": {
            "image/png": "[encoded data removed]",
            "text/plain": [
              "<Figure size 432x288 with 1 Axes>"
            ]
          },
          "metadata": {
            "tags": [],
            "needs_background": "light"
          }
        }
      ]
    }
  ]
}